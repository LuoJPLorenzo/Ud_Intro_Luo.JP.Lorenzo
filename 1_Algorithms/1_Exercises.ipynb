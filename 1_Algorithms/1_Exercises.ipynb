{
 "cells": [
  {
   "cell_type": "markdown",
   "id": "38e188a5",
   "metadata": {},
   "source": [
    "# Exercise 00\n",
    "Write a piece of code that allocates a list of 20 integers and initializes each element by its index multiplied by 5. Print the result."
   ]
  },
  {
   "cell_type": "code",
   "execution_count": 2,
   "id": "01aa4f35",
   "metadata": {},
   "outputs": [
    {
     "name": "stdout",
     "output_type": "stream",
     "text": [
      "[0, 5, 10, 15, 20, 25, 30, 35, 40, 45, 50, 55, 60, 65, 70, 75, 80, 85, 90, 95]\n"
     ]
    }
   ],
   "source": [
    "integer_list = []\n",
    "\n",
    "for i in range(20):\n",
    "    integer_list.append(i * 5)\n",
    "\n",
    "print(integer_list)"
   ]
  },
  {
   "cell_type": "markdown",
   "id": "529d91ae",
   "metadata": {},
   "source": [
    "# Exercise 01\n",
    "Define a function that takes an integer as input, prints  all integers that it is divisable by, and returns the largest one."
   ]
  },
  {
   "cell_type": "code",
   "execution_count": 4,
   "id": "30e79132",
   "metadata": {},
   "outputs": [
    {
     "name": "stdout",
     "output_type": "stream",
     "text": [
      "Enter an integer: 10\n",
      "1 2 5 10 \n",
      "The largest integer divisible by 10 is: 10\n"
     ]
    }
   ],
   "source": [
    "def find_divisibles_and_return_largest(n):\n",
    "    divisibles = []  # To store the integers that 'n' is divisible by\n",
    "\n",
    "    for i in range(1, n + 1):\n",
    "        if n % i == 0:\n",
    "            divisibles.append(i)\n",
    "            print(i, end=\" \")  # Print the current divisible\n",
    "\n",
    "    if divisibles:  # Check if there are any divisible integers\n",
    "        largest_divisible = max(divisibles)\n",
    "        return largest_divisible\n",
    "    else:\n",
    "        return None  # If 'n' is not divisible by any integers, return None\n",
    "\n",
    "\n",
    "input_number = int(input(\"Enter an integer: \"))\n",
    "result = find_divisibles_and_return_largest(input_number)\n",
    "\n",
    "if result is not None:\n",
    "    print(\"\\nThe largest integer divisible by\", input_number, \"is:\", result)\n",
    "else:\n",
    "    print(\"\\n\", input_number, \"is not divisible by any integers.\")\n"
   ]
  },
  {
   "cell_type": "markdown",
   "id": "cfbe30d4",
   "metadata": {},
   "source": [
    "# Exercise 02\n",
    "- create a dictionary with 6 keys and values of your choice\n",
    "- write a function that takes a dictionary and a value as input and returns whether the value occurs as a key in the dictionary\n",
    "- write a function that takes a dictionary as input, and returns the dictionary but the keys are swapped with their values (resolve the issue if a value occurs twice!)"
   ]
  },
  {
   "cell_type": "code",
   "execution_count": 8,
   "id": "2123f1c6",
   "metadata": {},
   "outputs": [
    {
     "name": "stdout",
     "output_type": "stream",
     "text": [
      "Is 5 in the dictionary keys? True\n",
      "Original Dictionary:\n",
      "{'A': 5, 'B': 10, 'C': 3, 'D': 7, 'E': 2, 'F': 4}\n",
      "Dictionary with Keys and Values Swapped:\n",
      "{5: 'A', 10: 'B', 3: 'C', 7: 'D', 2: 'E', 4: 'F'}\n"
     ]
    }
   ],
   "source": [
    "sample_dict = {\n",
    "    \"A\": 5,\n",
    "    \"B\": 10,\n",
    "    \"C\": 3,\n",
    "    \"D\": 7,\n",
    "    \"E\": 2,\n",
    "    \"F\": 4\n",
    "}\n",
    "\n",
    "\n",
    "def is_value_in_dict(dictionary, value):\n",
    "    return value in dictionary.values()\n",
    "\n",
    "\n",
    "def swap_keys_and_values(dictionary):\n",
    "    swapped_dict = {}\n",
    "    for key, value in dictionary.items():\n",
    "        if value not in swapped_dict:\n",
    "            swapped_dict[value] = key\n",
    "        else:\n",
    "            # Handle duplicates by creating a list of keys for that value\n",
    "            if not isinstance(swapped_dict[value], list):\n",
    "                swapped_dict[value] = [swapped_dict[value]]\n",
    "            swapped_dict[value].append(key)\n",
    "    return swapped_dict\n",
    "\n",
    "\n",
    "value_to_check = 5\n",
    "print(f\"Is {value_to_check} in the dictionary keys? {is_value_in_dict(sample_dict, value_to_check)}\")\n",
    "\n",
    "swapped_result = swap_keys_and_values(sample_dict)\n",
    "print(\"Original Dictionary:\")\n",
    "print(sample_dict)\n",
    "print(\"Dictionary with Keys and Values Swapped:\")\n",
    "print(swapped_result)\n"
   ]
  },
  {
   "cell_type": "markdown",
   "id": "b4b4e426",
   "metadata": {},
   "source": [
    "# Exercise 03\n",
    "Define a function that creates a dictionary of the first n fibonacci numbers as values paired with their indices as keys. "
   ]
  },
  {
   "cell_type": "code",
   "execution_count": 9,
   "id": "7845b5a4",
   "metadata": {},
   "outputs": [
    {
     "name": "stdout",
     "output_type": "stream",
     "text": [
      "{0: 0, 1: 1, 2: 1, 3: 2, 4: 3, 5: 5, 6: 8, 7: 13, 8: 21, 9: 34, 10: 55, 11: 89, 12: 144, 13: 233, 14: 377}\n"
     ]
    }
   ],
   "source": [
    "def generate_fibonacci_dict(n):\n",
    "    fibonacci_dict = {}\n",
    "    a, b = 0, 1  # Initialize the first two Fibonacci numbers\n",
    "    for i in range(n):\n",
    "        fibonacci_dict[i] = a  # Pair the Fibonacci number with its index\n",
    "        a, b = b, a + b  # Calculate the next Fibonacci number\n",
    "    return fibonacci_dict\n",
    "\n",
    "n = 15 \n",
    "fib_dict = generate_fibonacci_dict(n)\n",
    "print(fib_dict)\n"
   ]
  },
  {
   "cell_type": "code",
   "execution_count": null,
   "id": "bc1e7b87",
   "metadata": {},
   "outputs": [],
   "source": []
  }
 ],
 "metadata": {
  "kernelspec": {
   "display_name": "Python 3 (ipykernel)",
   "language": "python",
   "name": "python3"
  },
  "language_info": {
   "codemirror_mode": {
    "name": "ipython",
    "version": 3
   },
   "file_extension": ".py",
   "mimetype": "text/x-python",
   "name": "python",
   "nbconvert_exporter": "python",
   "pygments_lexer": "ipython3",
   "version": "3.11.5"
  }
 },
 "nbformat": 4,
 "nbformat_minor": 5
}
