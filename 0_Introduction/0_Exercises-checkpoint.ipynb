{
 "cells": [
  {
   "cell_type": "markdown",
   "id": "529d91ae",
   "metadata": {},
   "source": [
    "# Exercise 00\n",
    "Write a bit of code that prints _Introduction to Programming_ to the console and execute the cell"
   ]
  },
  {
   "cell_type": "code",
   "execution_count": 1,
   "id": "98711beb",
   "metadata": {},
   "outputs": [
    {
     "name": "stdout",
     "output_type": "stream",
     "text": [
      "Introduction to Programming\n"
     ]
    }
   ],
   "source": [
    "print('Introduction to Programming')"
   ]
  },
  {
   "cell_type": "markdown",
   "id": "63ad5023",
   "metadata": {},
   "source": [
    "-----------------------------------------------------------------------------\n",
    "# Exercise 01\n",
    "Hello World is traditionally the first program anyone writes. It is\n",
    "very simple and the only thing it should do is print Hello World! to the\n",
    "terminal window.\n",
    "Create a file called HelloWorld.py and edit the contents so it prints Hello World! to the terminal and execute it using the command line."
   ]
  },
  {
   "cell_type": "code",
   "execution_count": 1,
   "id": "6d3bdb31",
   "metadata": {},
   "outputs": [
    {
     "name": "stdout",
     "output_type": "stream",
     "text": [
      "helloworld\n"
     ]
    }
   ],
   "source": [
    "print('helloworld')"
   ]
  },
  {
   "cell_type": "markdown",
   "id": "a4a7c4c2",
   "metadata": {},
   "source": [
    "-----------------------------------------------------------------------------\n",
    "# Exercise 02\n",
    "Write some code to print your name, email, and age on separate lines. For each element first assign it to a variable and use the variable to print. \n",
    "\n",
    "Bonus: try to create the print statement for all variable in one line of code. (hint: '\\n' is the character for a new line)"
   ]
  },
  {
   "cell_type": "code",
   "execution_count": 25,
   "id": "fc8fface",
   "metadata": {},
   "outputs": [
    {
     "name": "stdout",
     "output_type": "stream",
     "text": [
      "Luo.JP Lorenzo\n",
      "jingpeng.luo.23@ucl.ac.uk\n",
      "23\n",
      "----\n",
      "Luo.JP Lorenzo\n",
      "jingpeng.luo.23@ucl.ac.uk\n",
      "23\n"
     ]
    }
   ],
   "source": [
    "name = \"Luo.JP Lorenzo\"\n",
    "email = \"jingpeng.luo.23@ucl.ac.uk\"\n",
    "age = 23\n",
    "\n",
    "print(name)\n",
    "print(email)\n",
    "print(age)\n",
    "\n",
    "print('----')\n",
    "\n",
    "print(f\"{name}\\n{email}\\n{age}\")"
   ]
  },
  {
   "cell_type": "markdown",
   "id": "0dd1c1d1",
   "metadata": {},
   "source": [
    "-----------------------------------------------------------------------------\n",
    "# Exercise 03\n",
    "Print the numbers 0, 178, -21, 2938 divided by 49, 436 multiplied with 9948 and 12 to the power of 20\n",
    "\n",
    "(Hint: Look up the documentation of basic arithmetic operators)"
   ]
  },
  {
   "cell_type": "code",
   "execution_count": 37,
   "id": "f3d5d009",
   "metadata": {},
   "outputs": [
    {
     "name": "stdout",
     "output_type": "stream",
     "text": [
      "0/49 = 0.0\n",
      "178/49 = 3.63265306122449\n",
      "-21 / 49 = -0.42857142857142855\n",
      "2938 / 49 = 59.95918367346939\n",
      "436 * 9948 = 4337328\n",
      "12 ** 20 = 3833759992447475122176\n"
     ]
    }
   ],
   "source": [
    "print(\"0/49 =\",0 / 49)\n",
    "print(\"178/49 =\", 178 / 49)\n",
    "print(\"-21 / 49 =\", -21 / 49)\n",
    "print(\"2938 / 49 =\", 2938 / 49)\n",
    "print(\"436 * 9948 =\", 436 * 9948)\n",
    "print(\"12 ** 20 =\", 12 ** 20)"
   ]
  },
  {
   "cell_type": "markdown",
   "id": "1f151455",
   "metadata": {},
   "source": [
    "-----------------------------------------------------------------------------\n",
    "# Exercise 04\n",
    "Print sin(200), cos(100), tan($\\pi$/4)\n",
    "\n",
    "(Hint: Look up for how to use trigonometric function, and how to get the value of $\\pi$.)"
   ]
  },
  {
   "cell_type": "code",
   "execution_count": 49,
   "id": "d0e37690",
   "metadata": {},
   "outputs": [
    {
     "name": "stdout",
     "output_type": "stream",
     "text": [
      "sin(200): -0.34202014332566866\n",
      "cos(100): -0.1736481776669303\n",
      "tan(𝜋/4): 0.9999999999999999\n"
     ]
    }
   ],
   "source": [
    "import math\n",
    "\n",
    "angle1 = 200\n",
    "angle2 = 100\n",
    "angle3 = math.pi / 4\n",
    "\n",
    "sin_result1 = math.sin(math.radians(angle1))\n",
    "cos_result2 = math.cos(math.radians(angle2))\n",
    "tan_result3 = math.tan(angle3)\n",
    "\n",
    "print(f\"sin(200): {sin_result1}\")\n",
    "print(f\"cos(100): {cos_result2}\")\n",
    "print(f\"tan(𝜋/4): {tan_result3}\")"
   ]
  },
  {
   "cell_type": "markdown",
   "id": "9d026820",
   "metadata": {},
   "source": [
    "-----------------------------------------------------------------------------\n",
    "# Exercise 05\n",
    "Write a program to read your first and last names from the console seperately, and then print them on the console together, separated by a space."
   ]
  },
  {
   "cell_type": "code",
   "execution_count": 5,
   "id": "594d97e1",
   "metadata": {},
   "outputs": [
    {
     "name": "stdout",
     "output_type": "stream",
     "text": [
      "JP.Lorenzo LUO\n"
     ]
    }
   ],
   "source": [
    "firstname = \"JP.Lorenzo\"\n",
    "\n",
    "lastname = \"LUO\"\n",
    "\n",
    "fullname = first_name + \" \" + last_name\n",
    "\n",
    "print(fullname)"
   ]
  },
  {
   "cell_type": "markdown",
   "id": "e83fa346",
   "metadata": {},
   "source": [
    "-----------------------------------------------------------------------------\n",
    "# Exercise 06\n",
    "Write a program that determines whether a number given as user input is positive or negative\n",
    " \n",
    "You will need to convert the console input from a string to a number first!"
   ]
  },
  {
   "cell_type": "code",
   "execution_count": 12,
   "id": "ecd924c2",
   "metadata": {},
   "outputs": [
    {
     "name": "stdout",
     "output_type": "stream",
     "text": [
      "The number:10\n",
      "The number is positive.\n"
     ]
    }
   ],
   "source": [
    "user_input = input(\"The number:\")\n",
    "\n",
    "try:\n",
    "    number = float(user_input)\n",
    "\n",
    "    if number > 0:\n",
    "        print(\"The number is positive.\")\n",
    "    elif number < 0:\n",
    "        print(\"The number is negative.\")\n",
    "    else:\n",
    "        print(\"The number is zero.\")\n",
    "except ValueError:\n",
    "    print(\"Invalid input. Please enter a valid number.\")"
   ]
  },
  {
   "cell_type": "markdown",
   "id": "2a192596",
   "metadata": {},
   "source": [
    "-----------------------------------------------------------------------------\n",
    "# Exercise 07\n",
    "Write a program that picks a random number between 1-20 and makes the user guess until they get the number right. Then print a congratulations message\n",
    "- (Find out yourself how to generate a random integer)\n",
    "- Bonus: make the user choose the range within which they have to guess\n",
    "- Bonus: keep track of how many guesses were made and print this at the end"
   ]
  },
  {
   "cell_type": "code",
   "execution_count": 2,
   "id": "70358dd3",
   "metadata": {},
   "outputs": [
    {
     "name": "stdout",
     "output_type": "stream",
     "text": [
      "Enter the minimum number in the range: 1\n",
      "Enter the maximum number in the range: 20\n",
      "Guess the number between 1 and 20: 10\n",
      "Try a lower number.\n",
      "Guess the number between 1 and 20: 8\n",
      "Try a lower number.\n",
      "Guess the number between 1 and 20: 5\n",
      "Try a lower number.\n",
      "Guess the number between 1 and 20: 3\n",
      "Try a higher number.\n",
      "Guess the number between 1 and 20: 4\n",
      "Congratulations! You guessed the correct number (4) in 5 attempts.\n"
     ]
    }
   ],
   "source": [
    "import random\n",
    "\n",
    "\n",
    "min_range = int(input(\"Enter the minimum number in the range: \"))\n",
    "max_range = int(input(\"Enter the maximum number in the range: \"))\n",
    "\n",
    "random_number = random.randint(min_range, max_range)\n",
    "\n",
    "\n",
    "attempts = 0\n",
    "guessed_number = None\n",
    "\n",
    "\n",
    "while guessed_number != random_number:\n",
    "    try:\n",
    "        guessed_number = int(input(f\"Guess the number between {min_range} and {max_range}: \"))\n",
    "        attempts += 1\n",
    "\n",
    "        if guessed_number < random_number:\n",
    "            print(\"Try a higher number.\")\n",
    "        elif guessed_number > random_number:\n",
    "            print(\"Try a lower number.\")\n",
    "        else:\n",
    "            print(f\"Congratulations! You guessed the correct number ({random_number}) in {attempts} attempts.\")\n",
    "    except ValueError:\n",
    "        print(\"Invalid input. Please enter a valid number.\")"
   ]
  },
  {
   "cell_type": "markdown",
   "id": "d53b9c07",
   "metadata": {},
   "source": [
    "-----------------------------------------------------------------------------\n",
    "# Exercise 08\n",
    "Ask a sentence as input, then print the words in alphabetical order.\n",
    "Hint: look up how to split up a string"
   ]
  },
  {
   "cell_type": "code",
   "execution_count": 8,
   "id": "b6524cf5",
   "metadata": {},
   "outputs": [
    {
     "name": "stdout",
     "output_type": "stream",
     "text": [
      "Ask a sentence: Hello my name is Jay\n",
      "Words in alphabetical order:\n",
      "Hello\n",
      "Jay\n",
      "is\n",
      "my\n",
      "name\n"
     ]
    }
   ],
   "source": [
    "sentence = input(\"Ask a sentence: \")\n",
    "\n",
    "words = sentence.split()\n",
    "\n",
    "sorted_words = sorted(words)\n",
    "\n",
    "print(\"Words in alphabetical order:\")\n",
    "for word in sorted_words:\n",
    "    print(word)"
   ]
  },
  {
   "cell_type": "markdown",
   "id": "09a7b060",
   "metadata": {},
   "source": [
    "-----------------------------------------------------------------------------\n",
    "# Exercise 09\n",
    "Write a program using for loops to print a christmas tree of x lines high\n",
    "specified by the user.\n",
    "(use for loops)\n",
    "so for instance, a chrismas tree of 4 high should looks like this:\n",
    "\n",
    "```\n",
    "\n",
    "    *\n",
    "   ***\n",
    "  *****\n",
    " *******\n",
    "    |\n",
    "\n",
    "```\n",
    "\n",
    "hint: first combine strings into a variable before printing"
   ]
  },
  {
   "cell_type": "code",
   "execution_count": 7,
   "id": "5150f7a4",
   "metadata": {},
   "outputs": [
    {
     "name": "stdout",
     "output_type": "stream",
     "text": [
      "Enter the height of the Christmas tree: 4\n",
      "   *\n",
      "  ***\n",
      " *****\n",
      "*******\n",
      "   |\n"
     ]
    }
   ],
   "source": [
    "height = int(input(\"Enter the height of the Christmas tree: \"))\n",
    "\n",
    "for i in range(1, height + 1):\n",
    "    spaces = \" \" * (height - i)\n",
    "    A = \"*\" * (2 * i - 1)\n",
    "    print(spaces + A)\n",
    "\n",
    "spaces = \" \" * (height - 1)\n",
    "B = \"|\"\n",
    "print(spaces + B)"
   ]
  },
  {
   "cell_type": "markdown",
   "id": "07f67531",
   "metadata": {},
   "source": [
    "-----------------------------------------------------------------------------\n",
    "# Exercise 10\n",
    "Write a piece of code that prints the first $n$ numbers of the padovan sequence"
   ]
  },
  {
   "cell_type": "code",
   "execution_count": 23,
   "id": "d301c61b",
   "metadata": {},
   "outputs": [
    {
     "name": "stdout",
     "output_type": "stream",
     "text": [
      "Enter the value of n: 20\n",
      "Padovan sequence: [1, 1, 1, 2, 2, 3, 4, 5, 7, 9, 12, 16, 21, 28, 37, 49, 65, 86, 114, 151]\n"
     ]
    }
   ],
   "source": [
    "def padovan_sequence(n):\n",
    "    if n <= 2:\n",
    "        return [1] * n\n",
    "    sequence = [1, 1, 1]\n",
    "    \n",
    "    for i in range(3, n):\n",
    "        next_term = sequence[i - 2] + sequence[i - 3]\n",
    "        sequence.append(next_term)\n",
    "\n",
    "    return sequence\n",
    "\n",
    "n = int(input(\"Enter the value of n: \"))\n",
    "\n",
    "\n",
    "result = padovan_sequence(n)\n",
    "print(\"Padovan sequence:\", result)"
   ]
  }
 ],
 "metadata": {
  "kernelspec": {
   "display_name": "Python 3 (ipykernel)",
   "language": "python",
   "name": "python3"
  },
  "language_info": {
   "codemirror_mode": {
    "name": "ipython",
    "version": 3
   },
   "file_extension": ".py",
   "mimetype": "text/x-python",
   "name": "python",
   "nbconvert_exporter": "python",
   "pygments_lexer": "ipython3",
   "version": "3.11.5"
  }
 },
 "nbformat": 4,
 "nbformat_minor": 5
}
