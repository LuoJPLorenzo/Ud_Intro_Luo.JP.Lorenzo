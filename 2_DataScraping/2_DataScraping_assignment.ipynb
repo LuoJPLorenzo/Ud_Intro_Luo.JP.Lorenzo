{
 "cells": [
  {
   "cell_type": "code",
   "execution_count": 1,
   "id": "783ac0c3",
   "metadata": {},
   "outputs": [
    {
     "name": "stdout",
     "output_type": "stream",
     "text": [
      "Hali Bote yu si wang sheng qi\n",
      "哈利波特与凤凰社\n",
      "哈利波特-鳳凰會的密令\n",
      "哈利波特: 阿茲卡班的囚犯\n",
      "哈利波特: 神秘的魔法石\n",
      "哈利波特-鳳凰會的密令\n",
      "混血王子的背叛\n",
      "Livre de Coloriage Harry Potter: Coloriage Harry Potter Pour Garçon Filletout âge Cadeau Pour Noël 2020 2021\n",
      "Harry Potter: Harry Potter Coloring Book\n",
      "Harry Potter Malbuch: Harry Potter Malbuch Für Kinder und Erwachsene,Harry Potter Harry Potter Färbung,Harry Potter Färbung Für Kinder,harry Potter Ausmalbuch\n",
      "Harry Potter: Villains\n",
      "Harry Potter: Gryffindor Constellation Postcard Tin Set\n",
      "Harry Potter: 2005 Mini Wall - Literary (Harry Potter)\n",
      "Farben Harry Potter: Harry Potter - das Malbuch\n",
      "Carnet Harry Potter: Harry Potter Carnet de Notes\n",
      "Harry Potter: Harry Potter Cinematic Guide\n",
      "Harry Potter Character Pop: Harry Potter\n",
      "Harry Potter: Dumbledore\n",
      "Harry Potter: Voldemort\n",
      "Harry Potter: Sihir Tarihi\n"
     ]
    }
   ],
   "source": [
    "# Importing the libraries\n",
    "import selenium \n",
    "from selenium import webdriver\n",
    "from selenium.webdriver.common.by import By\n",
    "from selenium.webdriver.common.keys import Keys\n",
    "from selenium.webdriver.support.ui import Select\n",
    "from selenium.webdriver.support.ui import WebDriverWait\n",
    "from selenium.webdriver.support import expected_conditions as EC\n",
    "from time import sleep\n",
    "\n",
    "url = \"https://openlibrary.org/\"\n",
    "# Create lists to store the data\n",
    "books_list = []\n",
    "author_list = []\n",
    "link_list = []\n",
    "pdf_list = []\n",
    "driver = webdriver.Chrome()\n",
    "driver.get(url)\n",
    "\n",
    "# Step 1: identify search box\n",
    "search_query = driver.find_element(\"name\", \"q\")\n",
    "\n",
    "# Step 2: search for a topic (replace 'Romain Rolland' with 'Harry Potter')\n",
    "search_query.send_keys('Harry Potter')\n",
    "search_query.send_keys(Keys.RETURN)\n",
    "\n",
    "# Delay (good practice)\n",
    "sleep(2)\n",
    "\n",
    "# Step 3: Find all the books\n",
    "books = driver.find_elements(\"class name\", \"searchResultItem\")\n",
    "\n",
    "# Create a loop to iterate through the book list to find each item\n",
    "for b in range(len(books)):\n",
    "    try:\n",
    "        # Find title per book\n",
    "        title = books[b].find_element(\"class name\", \"booktitle\").text\n",
    "        print(title)\n",
    "\n",
    "        # Add title to the existing list\n",
    "        books_list.append(title)\n",
    "        # Delay (good practice)\n",
    "        sleep(3)\n",
    "\n",
    "    except:\n",
    "        pass\n",
    "\n",
    "# Close the webpage\n",
    "driver.quit()\n"
   ]
  },
  {
   "cell_type": "code",
   "execution_count": 2,
   "id": "7a8282fb",
   "metadata": {},
   "outputs": [
    {
     "name": "stdout",
     "output_type": "stream",
     "text": [
      "['Hali Bote yu si wang sheng qi', '哈利波特与凤凰社', '哈利波特-鳳凰會的密令', '哈利波特: 阿茲卡班的囚犯', '哈利波特: 神秘的魔法石', '哈利波特-鳳凰會的密令', '混血王子的背叛', 'Livre de Coloriage Harry Potter: Coloriage Harry Potter Pour Garçon Filletout âge Cadeau Pour Noël 2020 2021', 'Harry Potter: Harry Potter Coloring Book', 'Harry Potter Malbuch: Harry Potter Malbuch Für Kinder und Erwachsene,Harry Potter Harry Potter Färbung,Harry Potter Färbung Für Kinder,harry Potter Ausmalbuch', 'Harry Potter: Villains', 'Harry Potter: Gryffindor Constellation Postcard Tin Set', 'Harry Potter: 2005 Mini Wall - Literary (Harry Potter)', 'Farben Harry Potter: Harry Potter - das Malbuch', 'Carnet Harry Potter: Harry Potter Carnet de Notes', 'Harry Potter: Harry Potter Cinematic Guide', 'Harry Potter Character Pop: Harry Potter', 'Harry Potter: Dumbledore', 'Harry Potter: Voldemort', 'Harry Potter: Sihir Tarihi']\n"
     ]
    }
   ],
   "source": [
    "print(books_list)"
   ]
  },
  {
   "cell_type": "code",
   "execution_count": 3,
   "id": "8ca70ad0",
   "metadata": {},
   "outputs": [],
   "source": [
    "driver = webdriver.Chrome()\n",
    "driver.get(url)\n",
    "\n",
    "#Step 1: identify search box\n",
    "search_query = driver.find_element(\"name\",\"q\")\n",
    "\n",
    "#Step 2: search a topic\n",
    "search_query.send_keys('Harry Potter')\n",
    "search_query.send_keys(Keys.RETURN)\n",
    "#Delay (good practice)\n",
    "sleep(2)\n",
    "\n",
    "#Step 3: Find all the books\n",
    "books=driver.find_elements(\"class name\", \"searchResultItem\")\n",
    "\n",
    "#Create loop to iterate on the book list in order to find each item\n",
    "for b in range(len(books)):\n",
    "    try:          \n",
    "        #Find title per book\n",
    "        title = books[b].find_element(\"class name\",\"booktitle\").text\n",
    "        #print(title)\n",
    "        \n",
    "        #Find the author\n",
    "        authors=books[b].find_element(\"class name\",\"bookauthor\").text\n",
    "        \n",
    "        #Find the link\n",
    "        link = books[b].find_element(\"link text\",title).get_attribute('href')\n",
    "         \n",
    "        #Add items to the existing lists\n",
    "        books_list.append(title)\n",
    "        author_list.append(authors)\n",
    "        link_list.append(link)\n",
    "        #Delay (good practice)\n",
    "        sleep(2)  \n",
    "        \n",
    "    except:\n",
    "        pass\n",
    "\n",
    "#Close the webpage\n",
    "driver.quit()"
   ]
  },
  {
   "cell_type": "code",
   "execution_count": 4,
   "id": "d15a9c01",
   "metadata": {},
   "outputs": [
    {
     "name": "stdout",
     "output_type": "stream",
     "text": [
      "['来自J. K. Rowling', '来自J. K. Rowling', '来自J. K. Rowling', '来自J. K. Rowling', '来自J. K. Rowling', '来自J. K. Rowling', '来自J. K. Rowling', '来自Edition Coloriage Hp', '来自Adele Books', '来自lina wizar', '来自Inc. Staff Scholastic', '来自Insight Editions', '来自Andrews McMeel Publishing', '来自Maik Weber', '来自Edition BH', '来自Felicity Baker', '来自Matthew Reinhart', '来自Insight Editions', '来自Insight Editions', '来自Kolektif']\n"
     ]
    }
   ],
   "source": [
    "print(author_list)"
   ]
  },
  {
   "cell_type": "code",
   "execution_count": null,
   "id": "fde52b79",
   "metadata": {},
   "outputs": [],
   "source": []
  }
 ],
 "metadata": {
  "kernelspec": {
   "display_name": "Python 3 (ipykernel)",
   "language": "python",
   "name": "python3"
  },
  "language_info": {
   "codemirror_mode": {
    "name": "ipython",
    "version": 3
   },
   "file_extension": ".py",
   "mimetype": "text/x-python",
   "name": "python",
   "nbconvert_exporter": "python",
   "pygments_lexer": "ipython3",
   "version": "3.11.5"
  }
 },
 "nbformat": 4,
 "nbformat_minor": 5
}
